{
 "cells": [
  {
   "cell_type": "code",
   "execution_count": 27,
   "metadata": {},
   "outputs": [],
   "source": [
    "import pandas as pd\n",
    "import matplotlib.pyplot as plt\n",
    "import numpy as np\n",
    "from sklearn.linear_model import LinearRegression"
   ]
  },
  {
   "cell_type": "markdown",
   "metadata": {},
   "source": [
    "# Ground Cricket Chirps\n",
    "\n",
    "In _The Song of Insects_ (1948) by George W. Pierce, Pierce mechanically measured the frequency (the number of wing vibrations per second) of chirps (or pulses of sound) made by a striped ground cricket, at various ground temperatures.  Since crickets are ectotherms (cold-blooded), the rate of their physiological processes and their overall metabolism are influenced by temperature.  Consequently, there is reason to believe that temperature would have a profound effect on aspects of their behavior, such as chirp frequency.\n",
    "\n",
    "In general, it was found that crickets did not sing at temperatures colder than 60º F. or warmer than 100º F."
   ]
  },
  {
   "cell_type": "code",
   "execution_count": 134,
   "metadata": {},
   "outputs": [],
   "source": [
    "ground_cricket_data = {\"Chirps/Second\": [20.0, 16.0, 19.8, 18.4, 17.1, 15.5, 14.7,\n",
    "                                         15.7, 15.4, 16.3, 15.0, 17.2, 16.0, 17.0,\n",
    "                                         14.4],\n",
    "                       \"Ground Temperature\": [88.6, 71.6, 93.3, 84.3, 80.6, 75.2, 69.7,\n",
    "                                              71.6, 69.4, 83.3, 79.6, 82.6, 80.6, 83.5,\n",
    "                                              76.3]}\n",
    "df = pd.DataFrame(ground_cricket_data)"
   ]
  },
  {
   "cell_type": "markdown",
   "metadata": {},
   "source": [
    "## 1. Find the linear regression equation for this data."
   ]
  },
  {
   "cell_type": "markdown",
   "metadata": {},
   "source": [
    "General form:     Y = aX + b\n",
    "General idea is that temperature affects chirps/second\n",
    "\n",
    "a is the slope, b is the y-intercept\n",
    "\n",
    "Independent variable, X: temperature\n",
    "\n",
    "Dependent variable, Y: chirps/second"
   ]
  },
  {
   "cell_type": "code",
   "execution_count": 98,
   "metadata": {},
   "outputs": [],
   "source": [
    "# must reshape\n",
    "x = df[\"Ground Temperature\"].values.reshape(-1,1)\n",
    "y = df['Chirps/Second'].values.reshape(-1,1)\n",
    "# equation is printed down below, with the plot"
   ]
  },
  {
   "cell_type": "markdown",
   "metadata": {},
   "source": [
    "## 2. Chart the original data and the equation on the chart."
   ]
  },
  {
   "cell_type": "code",
   "execution_count": 99,
   "metadata": {},
   "outputs": [
    {
     "data": {
      "image/png": "[encoded data removed]",
      "text/plain": [
       "<matplotlib.figure.Figure at 0x1a15d8c310>"
      ]
     },
     "metadata": {},
     "output_type": "display_data"
    }
   ],
   "source": [
    "# here is just the data plotted as a scatter plot\n",
    "plt.scatter(x, y);\n",
    "plt.show()"
   ]
  },
  {
   "cell_type": "code",
   "execution_count": 100,
   "metadata": {},
   "outputs": [
    {
     "name": "stdout",
     "output_type": "stream",
     "text": [
      "Linear Regression Equation is:  [[ 0.20299973]] * x +  [ 0.45931465]\n"
     ]
    },
    {
     "data": {
      "image/png": "[encoded data removed]",
      "text/plain": [
       "<matplotlib.figure.Figure at 0x1a15efc990>"
      ]
     },
     "metadata": {},
     "output_type": "display_data"
    }
   ],
   "source": [
    "# now, here is the same scatter plot with the linear regression on top\n",
    "model = LinearRegression()\n",
    "model.fit(x, y)\n",
    "xfit = x\n",
    "yfit = (model.coef_)*x + model.intercept_\n",
    "\n",
    "print \"Linear Regression Equation is: \", model.coef_, \"* x + \", model.intercept_\n",
    "plt.scatter(x, y)\n",
    "plt.plot(xfit, yfit)\n",
    "plt.show()"
   ]
  },
  {
   "cell_type": "markdown",
   "metadata": {},
   "source": [
    "## 3. Find the equation's $R^2$ score (use the `.score` method) to determine whether the equation is a good fit for this data. (0.8 and greater is considered a strong correlation.)\n"
   ]
  },
  {
   "cell_type": "code",
   "execution_count": 101,
   "metadata": {},
   "outputs": [
    {
     "name": "stdout",
     "output_type": "stream",
     "text": [
      "0.692294652915\n"
     ]
    }
   ],
   "source": [
    "r2 = model.score(x, y)\n",
    "print r2"
   ]
  },
  {
   "cell_type": "markdown",
   "metadata": {},
   "source": [
    "ANSWER:      \n",
    "\n",
    "$R^2$ = 0.692294652915\n",
    "\n",
    "This is not a significant $R^2$, based on the clue of 0.8."
   ]
  },
  {
   "cell_type": "markdown",
   "metadata": {},
   "source": [
    "## 4. Extrapolate data:  If the ground temperature reached 95, then at what approximate rate would you expect the crickets to be chirping?"
   ]
  },
  {
   "cell_type": "code",
   "execution_count": 102,
   "metadata": {},
   "outputs": [
    {
     "name": "stdout",
     "output_type": "stream",
     "text": [
      "[[ 19.74428913]]\n"
     ]
    }
   ],
   "source": [
    "pred1 = model.predict(95)\n",
    "print pred1"
   ]
  },
  {
   "cell_type": "markdown",
   "metadata": {},
   "source": [
    "ANSWER: 19.74428913"
   ]
  },
  {
   "cell_type": "markdown",
   "metadata": {},
   "source": [
    "## 5. Interpolate data:  With a listening device, you discovered that on a particular morning the crickets were chirping at a rate of 18 chirps per second.  What was the approximate ground temperature that morning? "
   ]
  },
  {
   "cell_type": "code",
   "execution_count": 103,
   "metadata": {},
   "outputs": [
    {
     "name": "stdout",
     "output_type": "stream",
     "text": [
      "[[ 86.40743135]]\n",
      "[[ 18.]]\n"
     ]
    }
   ],
   "source": [
    "# no need to model; just rearrange y = mx + b, solve for x\n",
    "# plug that value into .predict() to verify\n",
    "# algebra:\n",
    "#      y - b = mx  \n",
    "#      x = (y-b) / m\n",
    "\n",
    "flip = (18 - model.intercept_ ) / (model.coef_)\n",
    "print flip\n",
    "# ANSWER: 86.40743135\n",
    "flip_pred = model.predict(flip)\n",
    "print flip_pred"
   ]
  },
  {
   "cell_type": "markdown",
   "metadata": {},
   "source": [
    "ANSWER: 86.40743135"
   ]
  },
  {
   "cell_type": "markdown",
   "metadata": {},
   "source": [
    "# Brain vs. Body Weight\n",
    "\n",
    "In the file `brain_body.txt`, the average brain and body weight for a number of mammal species are recorded. Load this data into a Pandas data frame.\n"
   ]
  },
  {
   "cell_type": "markdown",
   "metadata": {},
   "source": [
    "## 1. Find the linear regression equation for this data for brain weight to body weight."
   ]
  },
  {
   "cell_type": "code",
   "execution_count": 104,
   "metadata": {},
   "outputs": [],
   "source": [
    "df = pd.read_fwf(\"brain_body.txt\")\n",
    "# equation is down below in answer to question 3"
   ]
  },
  {
   "cell_type": "markdown",
   "metadata": {},
   "source": [
    "## 2. Chart the original data and the equation on the chart."
   ]
  },
  {
   "cell_type": "code",
   "execution_count": 105,
   "metadata": {},
   "outputs": [
    {
     "data": {
      "image/png": "[encoded data removed]",
      "text/plain": [
       "<matplotlib.figure.Figure at 0x1a15e58450>"
      ]
     },
     "metadata": {},
     "output_type": "display_data"
    }
   ],
   "source": [
    "# plotting original data\n",
    "x = df[\"Body\"].values.reshape(-1, 1)\n",
    "y = df[\"Brain\"].values.reshape(-1, 1)\n",
    "\n",
    "plt.scatter(x, y);\n",
    "plt.show()"
   ]
  },
  {
   "cell_type": "code",
   "execution_count": 106,
   "metadata": {},
   "outputs": [
    {
     "name": "stdout",
     "output_type": "stream",
     "text": [
      "Linear Regression Equation is:  [[ 0.90291295]] * x +  [-56.85554543]\n"
     ]
    },
    {
     "data": {
      "image/png": "[encoded data removed]",
      "text/plain": [
       "<matplotlib.figure.Figure at 0x1a15e15950>"
      ]
     },
     "metadata": {},
     "output_type": "display_data"
    }
   ],
   "source": [
    "# plotting the linear regression model\n",
    "model = LinearRegression()\n",
    "model.fit(x, y)\n",
    "xfit = x\n",
    "yfit = (model.coef_)*x + model.intercept_\n",
    "\n",
    "print \"Linear Regression Equation is: \", model.coef_, \"* x + \", model.intercept_\n",
    "plt.scatter(x, y)\n",
    "plt.plot(xfit, yfit)\n",
    "plt.show()"
   ]
  },
  {
   "cell_type": "markdown",
   "metadata": {},
   "source": [
    "## 3. Find the equation's $R^2$ score (use the `.score` method) to determine whether the equation is a good fit for this data. (0.8 and greater is considered a strong correlation.)"
   ]
  },
  {
   "cell_type": "code",
   "execution_count": 107,
   "metadata": {},
   "outputs": [
    {
     "name": "stdout",
     "output_type": "stream",
     "text": [
      "0.872662084304\n"
     ]
    }
   ],
   "source": [
    "r2 = model.score(x, y)\n",
    "print r2"
   ]
  },
  {
   "cell_type": "markdown",
   "metadata": {},
   "source": [
    "ANSWER: 0.872662084304"
   ]
  },
  {
   "cell_type": "markdown",
   "metadata": {},
   "source": [
    "## Salary Discrimination\n",
    "\n",
    "The file `salary.txt` contains data for 52 tenure-track professors at a small Midwestern college. This data was used in legal proceedings in the 1980s about discrimination against women in salary.\n",
    "\n",
    "The data in the file, by column:\n",
    "\n",
    "1. Sex. 1 for female, 0 for male.\n",
    "2. Rank. 1 for assistant professor, 2 for associate professor, 3 for full professor.\n",
    "3. Year. Number of years in current rank.\n",
    "4. Degree. Highest degree. 1 for doctorate, 0 for master's.\n",
    "5. YSdeg. Years since highest degree was earned.\n",
    "6. Salary. Salary/year in dollars.\n",
    "\n",
    "### Tasks\n",
    "\n",
    "1. Find the linear regression equation for this data using columns 1-5 to column 6.\n",
    "2. Find the selection of columns with the best $R^2$ score.\n",
    "3. Report whether sex is a factor in salary."
   ]
  },
  {
   "cell_type": "code",
   "execution_count": 139,
   "metadata": {},
   "outputs": [],
   "source": [
    "df = pd.read_fwf(\"salary.txt\", header=None, \n",
    "                 names=[\"Sex\", \"Rank\", \"Year\", \"Degree\", \"YSdeg\", \"Salary\"])"
   ]
  },
  {
   "cell_type": "code",
   "execution_count": 140,
   "metadata": {},
   "outputs": [
    {
     "name": "stdout",
     "output_type": "stream",
     "text": [
      "Equation for  Sex :      [[-3339.64661654]] * x +  [ 24696.78947368]\n",
      "Equation for  Rank :      [[ 5952.77890467]] * x +  [ 11663.14300203]\n",
      "Equation for  Year :      [[ 752.79775742]] * x +  [ 18166.14754547]\n",
      "Equation for  Degree :      [[-858.86928105]] * x +  [ 24359.22222222]\n",
      "Equation for  YSdeg :      [[ 390.64512637]] * x +  [ 17502.25738659]\n",
      "Comparison of R2's: \n",
      "Degree : 0.00486168098475\n",
      "Sex    : 0.0638989258329\n",
      "YSdeg  : 0.455428134584\n",
      "Year   : 0.490937026769\n",
      "Rank   : 0.752536053927\n"
     ]
    }
   ],
   "source": [
    "# calculate all r2s where independent variable is df[columns 1-5] and df[column 6] is dependent variable\n",
    "r2s = {}\n",
    "\n",
    "for column in df:\n",
    "    if column != \"Salary\":\n",
    "        x = df[column].values.reshape(-1, 1)\n",
    "        y = df[\"Salary\"].values.reshape(-1, 1)\n",
    "        \n",
    "        model = LinearRegression()\n",
    "        model.fit(x, y)\n",
    "        \n",
    "        xfit = x\n",
    "        yfit = (model.coef_)*x + model.intercept_\n",
    "        \n",
    "        r2 = model.score(x, y)\n",
    "        \n",
    "        plt.scatter(x, y)\n",
    "        plt.plot(xfit, yfit)\n",
    "        \n",
    "        # add the r2 to the r2s dictionary\n",
    "        r2s[column] = r2\n",
    "        print \"Equation for \", column, \":     \", model.coef_, \"* x + \", model.intercept_\n",
    "\n",
    "\n",
    "print \"Comparison of R2's: \"\n",
    "for key, value in sorted(r2s.iteritems(), key=lambda (k,v): (v,k)):\n",
    "    print \"%-*s : %s\" % (6, key, value)\n",
    "    \n",
    "    \n"
   ]
  },
  {
   "cell_type": "markdown",
   "metadata": {},
   "source": [
    "The $R^2$ of Sex with respect to Salary is ~0.0639. If $R^2$ is the only relevant statistic that measures correlation in this dataset, and a correlation of 0.8 is considered strong, then sex is not a strong factor in determining salary. A stronger factor would be rank or year.  "
   ]
  },
  {
   "cell_type": "markdown",
   "metadata": {},
   "source": [
    "# Additional Questions"
   ]
  },
  {
   "cell_type": "markdown",
   "metadata": {},
   "source": [
    "## (1) What is the geometric interpretation of why ridge and lasso are different? Why does this matter? What happens to the parameters in each case."
   ]
  },
  {
   "cell_type": "markdown",
   "metadata": {},
   "source": [
    "## WHY USE BASIS FUNCTIONS?\n",
    "This discussion revolves around the importance of regularization when you decide to use basis functions. Basis functions can introduce a certain flexibility into your linear regression that allows you to model variables that are non-linearly related. However, this flexibility confers a high risk of over-fitting, which makes the model seemingly \"jump\" to extreme \"spikes\" during prediction. If not mitigated, this flexibility can act like a bucking bronco, knocking validation statistics off-mark.\n",
    "\n",
    "## WHY USE REGULARIZATION?\n",
    "Employing regularization allows the regression model to reap the benefits of flexibility while minimizing the dangers of over-fitting. The geometric interpretation of regularization is that it pacifies the bucking bronco, so to speak. It's as if the violence to which the bronco can buck has been capped in some way. The bucks are then less violent in any direction, meaning the predictions don't \"spike\" as much, and then the resultant graph is much more smooth; in a word, it is regularized. \n",
    "\n",
    "## L1/L2 REGULARIZATION SIMILARITIES:\n",
    "There are two types of regularization: ridge (L2) and lasso (L1). They can both be imagined as \"penalties\" applied to extreme values; imagine that when the bronco bucks violently, the legs are slapped back down so that the power of the kick is dampened, and rider is not thrown off. This corresponds to geometric space in the sense that the prediction graph would be bucking all over the place due to the flexibility introduced by basis functions; but, thanks to L1/L2 regularization, the distance to which the predictions can be \"bucked\" off course is capped, and the graph has a smoother ride, appearing more \"regularized.\"\n",
    "\n",
    "With respect to paramaters, both L1/L2 are affecting the parameters in different ways that result in the sort of \"dampening\" of extreme values explained above. Specifically, they \"dampen\" the model's coefficients a (slope) and b (y-intercept) in different ways that result in the \"smoother ride\" in the model's prediction curve.\n",
    "\n",
    "## L1/L2 REGULARIZATION DIFFERENCES:\n",
    "L2: L2 penalizes the sum of squares of model coefficients.\n",
    "L1: L1 penalizes the sum of absolute values (1-norms) of model coefficients. Geometrically, this differs from L2 because in L1, the penalization results in many coefficients of zero.\n",
    "\n"
   ]
  },
  {
   "cell_type": "markdown",
   "metadata": {},
   "source": [
    "## (2) Implement Linear Regression (ols; any way you like). Fit random data, and plot your model’s best fit line and dataset."
   ]
  },
  {
   "cell_type": "code",
   "execution_count": 137,
   "metadata": {},
   "outputs": [
    {
     "name": "stdout",
     "output_type": "stream",
     "text": [
      "[4.515151515151515, 4.318181818181818, 3.9242424242424243, 4.515151515151515, 3.7272727272727275]\n",
      "RMSE: 2.461\n"
     ]
    }
   ],
   "source": [
    "# Standalone simple linear regression example\n",
    "from math import sqrt\n",
    " \n",
    "# Calculate root mean squared error\n",
    "def rmse_metric(actual, predicted):\n",
    "    sum_error = 0.0\n",
    "    for i in range(len(actual)):\n",
    "        prediction_error = predicted[i] - actual[i]\n",
    "        sum_error += (prediction_error ** 2)\n",
    "    mean_error = sum_error / float(len(actual))\n",
    "    return sqrt(mean_error)\n",
    " \n",
    " \n",
    "# Calculate the mean value of a list of numbers\n",
    "def mean(values):\n",
    "    return sum(values) / float(len(values))\n",
    " \n",
    "# Calculate covariance between x and y\n",
    "def covariance(x, mean_x, y, mean_y):\n",
    "    covar = 0.0\n",
    "    for i in range(len(x)):\n",
    "        covar += (x[i] - mean_x) * (y[i] - mean_y)\n",
    "    return covar\n",
    " \n",
    "# Calculate the variance of a list of numbers\n",
    "def variance(values, mean):\n",
    "    return sum([(x-mean)**2 for x in values])\n",
    " \n",
    "# Calculate coefficients\n",
    "def coefficients(dataset):\n",
    "    x = [row[0] for row in dataset]\n",
    "    y = [row[1] for row in dataset]\n",
    "    x_mean, y_mean = mean(x), mean(y)\n",
    "    b1 = covariance(x, x_mean, y, y_mean) / variance(x, x_mean)\n",
    "    b0 = y_mean - b1 * x_mean\n",
    "    return [b0, b1]\n",
    " \n",
    "# Simple linear regression algorithm\n",
    "def simple_linear_regression(train, test):\n",
    "    predictions = list()\n",
    "    b0, b1 = coefficients(train)\n",
    "    for row in test:\n",
    "        yhat = b0 + b1 * row[0]\n",
    "        predictions.append(yhat)\n",
    "    return predictions\n",
    " \n",
    "# Test simple linear regression\n",
    "dataset = [[1, 5], [2, 8], [4, 1], [1, 2], [5, 5]]\n",
    "rmse = evaluate_algorithm(dataset, simple_linear_regression)\n",
    "print('RMSE: %.3f' % (rmse))"
   ]
  },
  {
   "cell_type": "markdown",
   "metadata": {},
   "source": [
    "## (3) Would you ever use gradient descent to solve this problem?"
   ]
  },
  {
   "cell_type": "markdown",
   "metadata": {},
   "source": [
    "Gradient descent is computationally efficient, so if computation time was an issue and the model really needed to be optimized, then gradient descent could help optimize the model. "
   ]
  }
 ],
 "metadata": {
  "kernelspec": {
   "display_name": "Python 2",
   "language": "python",
   "name": "python2"
  },
  "language_info": {
   "codemirror_mode": {
    "name": "ipython",
    "version": 2
   },
   "file_extension": ".py",
   "mimetype": "text/x-python",
   "name": "python",
   "nbconvert_exporter": "python",
   "pygments_lexer": "ipython2",
   "version": "2.7.14"
  }
 },
 "nbformat": 4,
 "nbformat_minor": 1
}
